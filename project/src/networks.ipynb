{
 "cells": [
  {
   "cell_type": "code",
   "execution_count": 16,
   "id": "6da1a579",
   "metadata": {},
   "outputs": [],
   "source": [
    "import requests\n",
    "import pandas as pd\n",
    "from collections import defaultdict\n",
    "from itertools import combinations\n",
    "import networkx as nx\n",
    "import time\n",
    "import netwulf as nw\n",
    "import matplotlib.pyplot as plt\n",
    "import matplotlib as mpl\n",
    "import numpy as np"
   ]
  },
  {
   "cell_type": "code",
   "execution_count": 17,
   "id": "7bbc4e17",
   "metadata": {},
   "outputs": [],
   "source": [
    "def read_csv_file(file_path):\n",
    "    try:\n",
    "        df = pd.read_csv(file_path)\n",
    "        return df\n",
    "    except Exception as e:\n",
    "        print(f\"Failed to read CSV: {e}\")\n",
    "        return None"
   ]
  },
  {
   "cell_type": "code",
   "execution_count": 19,
   "id": "eaa8fc65",
   "metadata": {},
   "outputs": [
    {
     "data": {
      "text/html": [
       "<div>\n",
       "<style scoped>\n",
       "    .dataframe tbody tr th:only-of-type {\n",
       "        vertical-align: middle;\n",
       "    }\n",
       "\n",
       "    .dataframe tbody tr th {\n",
       "        vertical-align: top;\n",
       "    }\n",
       "\n",
       "    .dataframe thead th {\n",
       "        text-align: right;\n",
       "    }\n",
       "</style>\n",
       "<table border=\"1\" class=\"dataframe\">\n",
       "  <thead>\n",
       "    <tr style=\"text-align: right;\">\n",
       "      <th></th>\n",
       "      <th>name</th>\n",
       "      <th>type</th>\n",
       "      <th>species</th>\n",
       "      <th>affiliation</th>\n",
       "      <th>gender</th>\n",
       "      <th>pronouns</th>\n",
       "      <th>hair</th>\n",
       "      <th>skin</th>\n",
       "      <th>homeworld</th>\n",
       "      <th>death</th>\n",
       "      <th>location</th>\n",
       "      <th>eyes</th>\n",
       "      <th>class</th>\n",
       "    </tr>\n",
       "  </thead>\n",
       "  <tbody>\n",
       "    <tr>\n",
       "      <th>0</th>\n",
       "      <td>changeling mark 71nb</td>\n",
       "      <td>Racing starfighter</td>\n",
       "      <td>NaN</td>\n",
       "      <td>Ace Squadron</td>\n",
       "      <td>NaN</td>\n",
       "      <td>NaN</td>\n",
       "      <td>NaN</td>\n",
       "      <td>NaN</td>\n",
       "      <td>NaN</td>\n",
       "      <td>NaN</td>\n",
       "      <td>NaN</td>\n",
       "      <td>NaN</td>\n",
       "      <td>NaN</td>\n",
       "    </tr>\n",
       "    <tr>\n",
       "      <th>1</th>\n",
       "      <td>tie/ba baron space superiority interceptor</td>\n",
       "      <td>Starfighter</td>\n",
       "      <td>NaN</td>\n",
       "      <td>First Order</td>\n",
       "      <td>NaN</td>\n",
       "      <td>NaN</td>\n",
       "      <td>NaN</td>\n",
       "      <td>NaN</td>\n",
       "      <td>NaN</td>\n",
       "      <td>NaN</td>\n",
       "      <td>NaN</td>\n",
       "      <td>NaN</td>\n",
       "      <td>NaN</td>\n",
       "    </tr>\n",
       "    <tr>\n",
       "      <th>2</th>\n",
       "      <td>impact repulsor cannon</td>\n",
       "      <td>Repulsor cannon</td>\n",
       "      <td>NaN</td>\n",
       "      <td>Law enforcement agencies</td>\n",
       "      <td>NaN</td>\n",
       "      <td>NaN</td>\n",
       "      <td>NaN</td>\n",
       "      <td>NaN</td>\n",
       "      <td>NaN</td>\n",
       "      <td>NaN</td>\n",
       "      <td>NaN</td>\n",
       "      <td>NaN</td>\n",
       "      <td>NaN</td>\n",
       "    </tr>\n",
       "    <tr>\n",
       "      <th>3</th>\n",
       "      <td>peacekeeper stun baton</td>\n",
       "      <td>Stun baton</td>\n",
       "      <td>NaN</td>\n",
       "      <td>Galactic Empire</td>\n",
       "      <td>NaN</td>\n",
       "      <td>NaN</td>\n",
       "      <td>NaN</td>\n",
       "      <td>NaN</td>\n",
       "      <td>NaN</td>\n",
       "      <td>NaN</td>\n",
       "      <td>NaN</td>\n",
       "      <td>NaN</td>\n",
       "      <td>NaN</td>\n",
       "    </tr>\n",
       "    <tr>\n",
       "      <th>4</th>\n",
       "      <td>renegade heavy blaster pistol</td>\n",
       "      <td>Heavy blaster pistol</td>\n",
       "      <td>NaN</td>\n",
       "      <td>Alliance to Restore the Republic</td>\n",
       "      <td>NaN</td>\n",
       "      <td>NaN</td>\n",
       "      <td>NaN</td>\n",
       "      <td>NaN</td>\n",
       "      <td>NaN</td>\n",
       "      <td>NaN</td>\n",
       "      <td>NaN</td>\n",
       "      <td>NaN</td>\n",
       "      <td>NaN</td>\n",
       "    </tr>\n",
       "    <tr>\n",
       "      <th>...</th>\n",
       "      <td>...</td>\n",
       "      <td>...</td>\n",
       "      <td>...</td>\n",
       "      <td>...</td>\n",
       "      <td>...</td>\n",
       "      <td>...</td>\n",
       "      <td>...</td>\n",
       "      <td>...</td>\n",
       "      <td>...</td>\n",
       "      <td>...</td>\n",
       "      <td>...</td>\n",
       "      <td>...</td>\n",
       "      <td>...</td>\n",
       "    </tr>\n",
       "    <tr>\n",
       "      <th>20527</th>\n",
       "      <td>unidentified maintenance droid 1</td>\n",
       "      <td>NaN</td>\n",
       "      <td>NaN</td>\n",
       "      <td>NaN</td>\n",
       "      <td>NaN</td>\n",
       "      <td>NaN</td>\n",
       "      <td>NaN</td>\n",
       "      <td>NaN</td>\n",
       "      <td>NaN</td>\n",
       "      <td>c. 232 BBY, Steady Wing, Haileap</td>\n",
       "      <td>NaN</td>\n",
       "      <td>NaN</td>\n",
       "      <td>Maintenance droid</td>\n",
       "    </tr>\n",
       "    <tr>\n",
       "      <th>20528</th>\n",
       "      <td>unidentified protocol droid (suli's cantina)</td>\n",
       "      <td>NaN</td>\n",
       "      <td>NaN</td>\n",
       "      <td>NaN</td>\n",
       "      <td>NaN</td>\n",
       "      <td>NaN</td>\n",
       "      <td>NaN</td>\n",
       "      <td>NaN</td>\n",
       "      <td>NaN</td>\n",
       "      <td>29 ABY, Chaaktil</td>\n",
       "      <td>NaN</td>\n",
       "      <td>NaN</td>\n",
       "      <td>Protocol droid</td>\n",
       "    </tr>\n",
       "    <tr>\n",
       "      <th>20529</th>\n",
       "      <td>unidentified ra-7 protocol droid (nar shaddaa)</td>\n",
       "      <td>NaN</td>\n",
       "      <td>NaN</td>\n",
       "      <td>NaN</td>\n",
       "      <td>NaN</td>\n",
       "      <td>NaN</td>\n",
       "      <td>NaN</td>\n",
       "      <td>NaN</td>\n",
       "      <td>NaN</td>\n",
       "      <td>0 ABY</td>\n",
       "      <td>NaN</td>\n",
       "      <td>NaN</td>\n",
       "      <td>Protocol droid</td>\n",
       "    </tr>\n",
       "    <tr>\n",
       "      <th>20530</th>\n",
       "      <td>unidentified service droid</td>\n",
       "      <td>NaN</td>\n",
       "      <td>NaN</td>\n",
       "      <td>NaN</td>\n",
       "      <td>NaN</td>\n",
       "      <td>NaN</td>\n",
       "      <td>NaN</td>\n",
       "      <td>NaN</td>\n",
       "      <td>NaN</td>\n",
       "      <td>During the skirmish aboard the Sorca Retreat</td>\n",
       "      <td>NaN</td>\n",
       "      <td>NaN</td>\n",
       "      <td>Service droid</td>\n",
       "    </tr>\n",
       "    <tr>\n",
       "      <th>20531</th>\n",
       "      <td>vx-2411</td>\n",
       "      <td>NaN</td>\n",
       "      <td>NaN</td>\n",
       "      <td>NaN</td>\n",
       "      <td>NaN</td>\n",
       "      <td>NaN</td>\n",
       "      <td>NaN</td>\n",
       "      <td>NaN</td>\n",
       "      <td>NaN</td>\n",
       "      <td>29 BBY, Varl Circuit (rebuilt)</td>\n",
       "      <td>NaN</td>\n",
       "      <td>NaN</td>\n",
       "      <td>Conductor unit</td>\n",
       "    </tr>\n",
       "  </tbody>\n",
       "</table>\n",
       "<p>20532 rows × 13 columns</p>\n",
       "</div>"
      ],
      "text/plain": [
       "                                                 name                  type  \\\n",
       "0                                changeling mark 71nb    Racing starfighter   \n",
       "1          tie/ba baron space superiority interceptor           Starfighter   \n",
       "2                              impact repulsor cannon       Repulsor cannon   \n",
       "3                              peacekeeper stun baton            Stun baton   \n",
       "4                       renegade heavy blaster pistol  Heavy blaster pistol   \n",
       "...                                               ...                   ...   \n",
       "20527                unidentified maintenance droid 1                   NaN   \n",
       "20528    unidentified protocol droid (suli's cantina)                   NaN   \n",
       "20529  unidentified ra-7 protocol droid (nar shaddaa)                   NaN   \n",
       "20530                      unidentified service droid                   NaN   \n",
       "20531                                         vx-2411                   NaN   \n",
       "\n",
       "      species                       affiliation gender pronouns hair skin  \\\n",
       "0         NaN                      Ace Squadron    NaN      NaN  NaN  NaN   \n",
       "1         NaN                       First Order    NaN      NaN  NaN  NaN   \n",
       "2         NaN          Law enforcement agencies    NaN      NaN  NaN  NaN   \n",
       "3         NaN                   Galactic Empire    NaN      NaN  NaN  NaN   \n",
       "4         NaN  Alliance to Restore the Republic    NaN      NaN  NaN  NaN   \n",
       "...       ...                               ...    ...      ...  ...  ...   \n",
       "20527     NaN                               NaN    NaN      NaN  NaN  NaN   \n",
       "20528     NaN                               NaN    NaN      NaN  NaN  NaN   \n",
       "20529     NaN                               NaN    NaN      NaN  NaN  NaN   \n",
       "20530     NaN                               NaN    NaN      NaN  NaN  NaN   \n",
       "20531     NaN                               NaN    NaN      NaN  NaN  NaN   \n",
       "\n",
       "      homeworld                                         death location eyes  \\\n",
       "0           NaN                                           NaN      NaN  NaN   \n",
       "1           NaN                                           NaN      NaN  NaN   \n",
       "2           NaN                                           NaN      NaN  NaN   \n",
       "3           NaN                                           NaN      NaN  NaN   \n",
       "4           NaN                                           NaN      NaN  NaN   \n",
       "...         ...                                           ...      ...  ...   \n",
       "20527       NaN              c. 232 BBY, Steady Wing, Haileap      NaN  NaN   \n",
       "20528       NaN                              29 ABY, Chaaktil      NaN  NaN   \n",
       "20529       NaN                                         0 ABY      NaN  NaN   \n",
       "20530       NaN  During the skirmish aboard the Sorca Retreat      NaN  NaN   \n",
       "20531       NaN                29 BBY, Varl Circuit (rebuilt)      NaN  NaN   \n",
       "\n",
       "                   class  \n",
       "0                    NaN  \n",
       "1                    NaN  \n",
       "2                    NaN  \n",
       "3                    NaN  \n",
       "4                    NaN  \n",
       "...                  ...  \n",
       "20527  Maintenance droid  \n",
       "20528     Protocol droid  \n",
       "20529     Protocol droid  \n",
       "20530      Service droid  \n",
       "20531     Conductor unit  \n",
       "\n",
       "[20532 rows x 13 columns]"
      ]
     },
     "execution_count": 19,
     "metadata": {},
     "output_type": "execute_result"
    }
   ],
   "source": [
    "character_df = read_csv_file('../data/refined_characters.csv')\n",
    "character_df"
   ]
  },
  {
   "cell_type": "markdown",
   "id": "719f8672",
   "metadata": {},
   "source": [
    "Function for edge creation:"
   ]
  },
  {
   "cell_type": "markdown",
   "id": "d4c415ec",
   "metadata": {},
   "source": [
    "first one also adds the attribute name and have every name connected to that one"
   ]
  },
  {
   "cell_type": "markdown",
   "id": "99ab7bc6",
   "metadata": {},
   "source": [
    "this one only plots the names and connects then criss cross"
   ]
  },
  {
   "cell_type": "code",
   "execution_count": 8,
   "id": "2323fcb1",
   "metadata": {},
   "outputs": [],
   "source": [
    "def create_graph_from_dataframe(df, column_name):\n",
    "    \"\"\"\n",
    "    Create a graph from a DataFrame where one column contains node names and another column contains edges.\n",
    "    The DataFrame should have at least two columns: one for the node names and one for the edges.\n",
    "    It will create nodes for each unique name in the specified column and edges based on the other column.\n",
    "    Each node will then be connected to the node specified in the other column.\n",
    "    Parameters:\n",
    "    df (pd.DataFrame): The DataFrame containing the data.\n",
    "    column_name (str): The name of the column that contains the edges.\n",
    "    \"\"\"\n",
    "    G = nx.Graph()\n",
    "    \n",
    "    # Add nodes from the 'name' column\n",
    "    G.add_nodes_from(df['name'])\n",
    "    \n",
    "    # Group by the column_name and create edges between all names in the same group\n",
    "    grouped = df.groupby(column_name)\n",
    "    for _, group in grouped:\n",
    "        names = group['name'].tolist()\n",
    "        for name1, name2 in combinations(names, 2):  # Create edges between all pairs\n",
    "            G.add_edge(name1, name2)\n",
    "    \n",
    "    return G"
   ]
  },
  {
   "cell_type": "markdown",
   "id": "ad8b204b",
   "metadata": {},
   "source": [
    "Function for plotting"
   ]
  },
  {
   "cell_type": "code",
   "execution_count": 9,
   "id": "50a71696",
   "metadata": {},
   "outputs": [],
   "source": [
    "def plot_network(G, df, column_name):\n",
    "    # Get the unique values in the column\n",
    "    unique_values = df[column_name].unique()\n",
    "    unique_att = len(unique_values)\n",
    "    \n",
    "    # Create a color map based on the number of unique values\n",
    "    color_map = plt.cm.get_cmap('hsv', unique_att)  # Use a colormap with enough colors\n",
    "    \n",
    "    # Map each unique value to a color (convert to hex for netwulf compatibility)\n",
    "    value_to_color = {value: mpl.colors.rgb2hex(color_map(i)) for i, value in enumerate(unique_values)}\n",
    "    \n",
    "    # Assign colors to nodes based on the column values\n",
    "    for node in G.nodes:\n",
    "        node_value = df.loc[df['name'] == node, column_name].values\n",
    "        if len(node_value) > 0:\n",
    "            G.nodes[node]['color'] = value_to_color[node_value[0]]\n",
    "        else:\n",
    "            G.nodes[node]['color'] = '#808080'  # Default gray color for nodes without a match\n",
    "    \n",
    "    # Prepare visualization settings\n",
    "    visualization_settings = {\n",
    "        'node_color': [G.nodes[node]['color'] for node in G.nodes],  # Extract node colors\n",
    "        'node_size': 10,  # Adjust node size if needed\n",
    "        'edge_color': '#A9A9A9',  # Optional: Set edge color to light gray\n",
    "    }\n",
    "    \n",
    "    # Visualize the graph with netwulf\n",
    "    nw.visualize(G, config=visualization_settings)"
   ]
  },
  {
   "cell_type": "markdown",
   "id": "b9e62867",
   "metadata": {},
   "source": [
    "### Looking into uniquities in each coloumn:"
   ]
  },
  {
   "cell_type": "code",
   "execution_count": 10,
   "id": "8e116e6d",
   "metadata": {},
   "outputs": [
    {
     "name": "stdout",
     "output_type": "stream",
     "text": [
      " Type: 6185 \n",
      " Species: 9244 \n",
      " Affiliation: 16814 \n",
      " gender: 7354 \n",
      " pronouns: 5009 \n",
      " hair: 3573 \n",
      " skin: 5376 \n",
      " homeworld: 2994 \n",
      " death: 3074 \n",
      " location: 3320 \n",
      " eyes: 4267 \n",
      " class: 1461\n"
     ]
    }
   ],
   "source": [
    "character_type = character_df[['name', 'type']].dropna(subset=['type'])\n",
    "character_species = character_df[['name', 'species']].dropna(subset=['species'])\n",
    "character_affiliation = character_df[['name', 'affiliation']].dropna(subset=['affiliation']) # We dont drop nan here because we want to see the number of characters with no affiliation\n",
    "character_gender = character_df[['name', 'gender']].dropna(subset=['gender'])\n",
    "character_pronouns = character_df[['name', 'pronouns']].dropna(subset=['pronouns'])\n",
    "character_hair = character_df[['name', 'hair']].dropna(subset=['hair'])\n",
    "character_skin = character_df[['name', 'skin']].dropna(subset=['skin'])\n",
    "character_homeworld = character_df[['name', 'homeworld']].dropna(subset=['homeworld'])\n",
    "character_death = character_df[['name', 'death']].dropna(subset=['death'])\n",
    "charachter_location = character_df[['name', 'location']].dropna(subset=['location'])\n",
    "character_eyes = character_df[['name', 'eyes']].dropna(subset=['eyes'])\n",
    "character_class = character_df[['name', 'class']].dropna(subset=['class'])\n",
    "\n",
    "print(f\" Type: {len(character_type)} \\n Species: {len(character_species)} \\n Affiliation: {len(character_affiliation)} \\n gender: {len(character_gender)} \\n pronouns: {len(character_pronouns)} \\n hair: {len(character_hair)} \\n skin: {len(character_skin)} \\n homeworld: {len(character_homeworld)} \\n death: {len(character_death)} \\n location: {len(charachter_location)} \\n eyes: {len(character_eyes)} \\n class: {len(character_class)}\")"
   ]
  },
  {
   "cell_type": "markdown",
   "id": "dbaf3749",
   "metadata": {},
   "source": [
    "---\n",
    "\n",
    "Type:"
   ]
  },
  {
   "cell_type": "code",
   "execution_count": 8,
   "id": "567e76a0",
   "metadata": {},
   "outputs": [
    {
     "name": "stdout",
     "output_type": "stream",
     "text": [
      "Names: 6185\n",
      "Type unique traits: 1921\n"
     ]
    }
   ],
   "source": [
    "unique_type = character_type['type'].unique()\n",
    "print(f\"Names: {len(character_type)}\")  \n",
    "print(f\"Type unique traits: {len(unique_type)}\")\n",
    "G_type = create_graph_from_dataframe(character_type, 'type')"
   ]
  },
  {
   "cell_type": "code",
   "execution_count": null,
   "id": "f3eddfa4",
   "metadata": {},
   "outputs": [
    {
     "name": "stderr",
     "output_type": "stream",
     "text": [
      "C:\\Users\\canic\\AppData\\Local\\Temp\\ipykernel_36368\\395713439.py:7: MatplotlibDeprecationWarning: The get_cmap function was deprecated in Matplotlib 3.7 and will be removed two minor releases later. Use ``matplotlib.colormaps[name]`` or ``matplotlib.colormaps.get_cmap(obj)`` instead.\n",
      "  color_map = plt.cm.get_cmap('hsv', unique_att)  # Use a colormap with enough colors\n"
     ]
    }
   ],
   "source": [
    "# plot_network(G_type, character_type, 'type')"
   ]
  },
  {
   "cell_type": "markdown",
   "id": "c4a9591b",
   "metadata": {},
   "source": [
    "---"
   ]
  },
  {
   "cell_type": "markdown",
   "id": "bf95456c",
   "metadata": {},
   "source": [
    "Species:"
   ]
  },
  {
   "cell_type": "code",
   "execution_count": 10,
   "id": "c638a92d",
   "metadata": {},
   "outputs": [
    {
     "name": "stdout",
     "output_type": "stream",
     "text": [
      "Names: 9244\n",
      "species unique traits: 901\n"
     ]
    }
   ],
   "source": [
    "unique_species = character_species['species'].unique()\n",
    "print(f\"Names: {len(character_species)}\")  \n",
    "print(f\"species unique traits: {len(unique_species)}\")\n",
    "G_species = create_graph_from_dataframe(character_species, 'species')"
   ]
  },
  {
   "cell_type": "code",
   "execution_count": null,
   "id": "5df7b959",
   "metadata": {},
   "outputs": [
    {
     "name": "stderr",
     "output_type": "stream",
     "text": [
      "C:\\Users\\canic\\AppData\\Local\\Temp\\ipykernel_30456\\395713439.py:7: MatplotlibDeprecationWarning: The get_cmap function was deprecated in Matplotlib 3.7 and will be removed two minor releases later. Use ``matplotlib.colormaps[name]`` or ``matplotlib.colormaps.get_cmap(obj)`` instead.\n",
      "  color_map = plt.cm.get_cmap('hsv', unique_att)  # Use a colormap with enough colors\n"
     ]
    }
   ],
   "source": [
    "# plot_network(G_species, character_species, 'species')"
   ]
  },
  {
   "cell_type": "markdown",
   "id": "829262e8",
   "metadata": {},
   "source": [
    "<img src=\"../assets/species.png\" alt=\"Graph G\" width=\"1000\">"
   ]
  },
  {
   "cell_type": "markdown",
   "id": "ea708788",
   "metadata": {},
   "source": [
    "---\n",
    "$$\n",
    "\\vdots\n",
    "$$\n",
    "---"
   ]
  },
  {
   "cell_type": "code",
   "execution_count": 1,
   "id": "a121bfad",
   "metadata": {},
   "outputs": [],
   "source": [
    "def create_graph_from_dataframe(df, column_name):\n",
    "    \"\"\"\n",
    "    Create a graph from a DataFrame where one column contains node names and another column contains edges.\n",
    "    The DataFrame should have at least two columns: one for the node names and one for the edges.\n",
    "    It will create nodes for each unique name in the specified column and edges based on the other column.\n",
    "    Each node will then be connected to the node specified in the other column.\n",
    "    Parameters:\n",
    "    df (pd.DataFrame): The DataFrame containing the data.\n",
    "    column_name (str): The name of the column that contains the edges.\n",
    "    \"\"\"\n",
    "    G = nx.Graph()\n",
    "    \n",
    "    # Add nodes from the 'name' column\n",
    "    G.add_nodes_from(df['name'])\n",
    "    \n",
    "    # Add edges based on the other column\n",
    "    for _, row in df.iterrows():\n",
    "        G.add_edge(row['name'], row[column_name])\n",
    "    \n",
    "    return G\n"
   ]
  },
  {
   "cell_type": "code",
   "execution_count": 11,
   "id": "d7b1a9dc",
   "metadata": {},
   "outputs": [
    {
     "name": "stdout",
     "output_type": "stream",
     "text": [
      "Names: 16814\n",
      "affiliation unique traits: 1824\n"
     ]
    }
   ],
   "source": [
    "unique_affiliation = character_affiliation['affiliation'].unique()\n",
    "print(f\"Names: {len(character_affiliation)}\")  \n",
    "print(f\"affiliation unique traits: {len(unique_affiliation)}\")"
   ]
  },
  {
   "cell_type": "code",
   "execution_count": 14,
   "id": "36a68100",
   "metadata": {},
   "outputs": [],
   "source": [
    "G_affiliation = create_graph_from_dataframe(character_affiliation, 'affiliation')"
   ]
  },
  {
   "cell_type": "code",
   "execution_count": null,
   "id": "adbac69b",
   "metadata": {},
   "outputs": [
    {
     "name": "stderr",
     "output_type": "stream",
     "text": [
      "C:\\Users\\canic\\AppData\\Local\\Temp\\ipykernel_31168\\395713439.py:7: MatplotlibDeprecationWarning: The get_cmap function was deprecated in Matplotlib 3.7 and will be removed two minor releases later. Use ``matplotlib.colormaps[name]`` or ``matplotlib.colormaps.get_cmap(obj)`` instead.\n",
      "  color_map = plt.cm.get_cmap('hsv', unique_att)  # Use a colormap with enough colors\n"
     ]
    }
   ],
   "source": [
    "# plot_network(G_affiliation, character_affiliation, 'affiliation')"
   ]
  }
 ],
 "metadata": {
  "kernelspec": {
   "display_name": "mldm",
   "language": "python",
   "name": "python3"
  },
  "language_info": {
   "codemirror_mode": {
    "name": "ipython",
    "version": 3
   },
   "file_extension": ".py",
   "mimetype": "text/x-python",
   "name": "python",
   "nbconvert_exporter": "python",
   "pygments_lexer": "ipython3",
   "version": "3.11.7"
  }
 },
 "nbformat": 4,
 "nbformat_minor": 5
}
