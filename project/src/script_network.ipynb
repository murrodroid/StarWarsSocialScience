{
 "cells": [
  {
   "cell_type": "code",
   "execution_count": 1,
   "id": "ec893885",
   "metadata": {},
   "outputs": [],
   "source": [
    "import networkx as nx\n",
    "import numpy as np\n",
    "import pandas as pd\n",
    "from collections import defaultdict"
   ]
  },
  {
   "cell_type": "code",
   "execution_count": 2,
   "id": "f625302d",
   "metadata": {},
   "outputs": [],
   "source": [
    "nodes = []\n",
    "df = pd.read_csv('../data/movies/moviescripts_compiled.csv')"
   ]
  },
  {
   "cell_type": "code",
   "execution_count": null,
   "id": "bcde7208",
   "metadata": {},
   "outputs": [],
   "source": [
    "def edges(df, nodes, directed=True):\n",
    "    edge_weights = defaultdict(int)\n",
    "\n",
    "    for _, row in df.iterrows():\n",
    "        from_node = row['from']\n",
    "        to_node = row['to']\n",
    "\n",
    "        if pd.isna(to_node) or from_node not in nodes:\n",
    "            continue\n",
    "\n",
    "        if directed:\n",
    "            edge = (from_node, to_node)\n",
    "        else:\n",
    "            edge = tuple(sorted([from_node, to_node]))\n",
    "\n",
    "        edge_weights[edge] += 1\n",
    "\n",
    "    edge_list = [(f, t, w) for (f, t), w in edge_weights.items()]\n",
    "    return edge_list\n",
    "\n",
    "def network(df, nodes, directed=True):\n",
    "    G = nx.DiGraph() if directed else nx.Graph()\n",
    "\n",
    "    G.add_nodes_from(nodes)\n",
    "\n",
    "    for from_node, to_node, weight in edges(df, nodes, directed):\n",
    "        if G.has_edge(from_node, to_node):\n",
    "            G[from_node][to_node]['weight'] += weight\n",
    "        else:\n",
    "            G.add_edge(from_node, to_node, weight=weight)\n",
    "\n",
    "    return G"
   ]
  }
 ],
 "metadata": {
  "kernelspec": {
   "display_name": "base",
   "language": "python",
   "name": "python3"
  },
  "language_info": {
   "codemirror_mode": {
    "name": "ipython",
    "version": 3
   },
   "file_extension": ".py",
   "mimetype": "text/x-python",
   "name": "python",
   "nbconvert_exporter": "python",
   "pygments_lexer": "ipython3",
   "version": "3.11.9"
  }
 },
 "nbformat": 4,
 "nbformat_minor": 5
}
