{
 "cells": [
  {
   "cell_type": "code",
   "execution_count": 1,
   "id": "dac54ab0",
   "metadata": {},
   "outputs": [],
   "source": [
    "import networkx as nx\n",
    "import pandas as pd\n",
    "from collections import defaultdict\n",
    "from netwulf import visualize as _visualize\n",
    "from itertools import combinations\n",
    "\n",
    "from translate import translate\n",
    "from visualize import visualize"
   ]
  },
  {
   "cell_type": "code",
   "execution_count": 2,
   "id": "e6362ef8",
   "metadata": {},
   "outputs": [
    {
     "data": {
      "text/html": [
       "<div>\n",
       "<style scoped>\n",
       "    .dataframe tbody tr th:only-of-type {\n",
       "        vertical-align: middle;\n",
       "    }\n",
       "\n",
       "    .dataframe tbody tr th {\n",
       "        vertical-align: top;\n",
       "    }\n",
       "\n",
       "    .dataframe thead th {\n",
       "        text-align: right;\n",
       "    }\n",
       "</style>\n",
       "<table border=\"1\" class=\"dataframe\">\n",
       "  <thead>\n",
       "    <tr style=\"text-align: right;\">\n",
       "      <th></th>\n",
       "      <th>from</th>\n",
       "      <th>to</th>\n",
       "      <th>text</th>\n",
       "      <th>where</th>\n",
       "      <th>time</th>\n",
       "      <th>movie_num</th>\n",
       "      <th>text_processed</th>\n",
       "    </tr>\n",
       "  </thead>\n",
       "  <tbody>\n",
       "    <tr>\n",
       "      <th>0</th>\n",
       "      <td>qui-gon</td>\n",
       "      <td>captain</td>\n",
       "      <td>Captain.</td>\n",
       "      <td>INT. REPUBLIC CRUISER - COCKPIT</td>\n",
       "      <td>9.0</td>\n",
       "      <td>1</td>\n",
       "      <td>captain</td>\n",
       "    </tr>\n",
       "    <tr>\n",
       "      <th>1</th>\n",
       "      <td>captain</td>\n",
       "      <td>qui-gon</td>\n",
       "      <td>Yes, sir?</td>\n",
       "      <td>INT. REPUBLIC CRUISER - COCKPIT</td>\n",
       "      <td>18.0</td>\n",
       "      <td>1</td>\n",
       "      <td>yes sir</td>\n",
       "    </tr>\n",
       "    <tr>\n",
       "      <th>2</th>\n",
       "      <td>qui-gon</td>\n",
       "      <td>captain</td>\n",
       "      <td>Tell them we wish to board at once.</td>\n",
       "      <td>INT. REPUBLIC CRUISER - COCKPIT</td>\n",
       "      <td>72.0</td>\n",
       "      <td>1</td>\n",
       "      <td>tell them we wish to board at once</td>\n",
       "    </tr>\n",
       "    <tr>\n",
       "      <th>3</th>\n",
       "      <td>captain</td>\n",
       "      <td>qui-gon</td>\n",
       "      <td>Yes, sir.</td>\n",
       "      <td>INT. REPUBLIC CRUISER - COCKPIT</td>\n",
       "      <td>18.0</td>\n",
       "      <td>1</td>\n",
       "      <td>yes sir</td>\n",
       "    </tr>\n",
       "    <tr>\n",
       "      <th>4</th>\n",
       "      <td>captain</td>\n",
       "      <td>nute</td>\n",
       "      <td>With all due respect the ambassadors for the s...</td>\n",
       "      <td>INT. REPUBLIC CRUISER - COCKPIT</td>\n",
       "      <td>126.0</td>\n",
       "      <td>1</td>\n",
       "      <td>with all due respect the ambassadors for the s...</td>\n",
       "    </tr>\n",
       "  </tbody>\n",
       "</table>\n",
       "</div>"
      ],
      "text/plain": [
       "      from       to                                               text  \\\n",
       "0  qui-gon  captain                                           Captain.   \n",
       "1  captain  qui-gon                                          Yes, sir?   \n",
       "2  qui-gon  captain                Tell them we wish to board at once.   \n",
       "3  captain  qui-gon                                          Yes, sir.   \n",
       "4  captain     nute  With all due respect the ambassadors for the s...   \n",
       "\n",
       "                             where   time  movie_num  \\\n",
       "0  INT. REPUBLIC CRUISER - COCKPIT    9.0          1   \n",
       "1  INT. REPUBLIC CRUISER - COCKPIT   18.0          1   \n",
       "2  INT. REPUBLIC CRUISER - COCKPIT   72.0          1   \n",
       "3  INT. REPUBLIC CRUISER - COCKPIT   18.0          1   \n",
       "4  INT. REPUBLIC CRUISER - COCKPIT  126.0          1   \n",
       "\n",
       "                                      text_processed  \n",
       "0                                            captain  \n",
       "1                                            yes sir  \n",
       "2                 tell them we wish to board at once  \n",
       "3                                            yes sir  \n",
       "4  with all due respect the ambassadors for the s...  "
      ]
     },
     "execution_count": 2,
     "metadata": {},
     "output_type": "execute_result"
    }
   ],
   "source": [
    "df = pd.read_csv('../data/movies/moviescripts_compiled.csv')\n",
    "df['from'] = df['from'].apply(translate)\n",
    "\n",
    "df.head(5)"
   ]
  },
  {
   "cell_type": "code",
   "execution_count": 3,
   "id": "104496f5",
   "metadata": {},
   "outputs": [
    {
     "data": {
      "text/plain": [
       "259"
      ]
     },
     "execution_count": 3,
     "metadata": {},
     "output_type": "execute_result"
    }
   ],
   "source": [
    "df['from'].nunique()"
   ]
  },
  {
   "cell_type": "code",
   "execution_count": 4,
   "id": "d70c17f1",
   "metadata": {},
   "outputs": [],
   "source": [
    "edge_weights = defaultdict(int)\n",
    "\n",
    "for scene, group in df.groupby('where'):\n",
    "    characters = group['from'].dropna().unique()\n",
    "    for a, b in combinations(sorted(characters), 2):\n",
    "        edge_weights[(a, b)] += 1\n"
   ]
  },
  {
   "cell_type": "code",
   "execution_count": 5,
   "id": "3481c9c6",
   "metadata": {},
   "outputs": [
    {
     "name": "stderr",
     "output_type": "stream",
     "text": [
      "c:\\Users\\lucas\\miniconda3\\Lib\\site-packages\\networkx\\readwrite\\json_graph\\node_link.py:142: FutureWarning: \n",
      "The default value will be `edges=\"edges\" in NetworkX 3.6.\n",
      "\n",
      "To make this warning go away, explicitly set the edges kwarg, e.g.:\n",
      "\n",
      "  nx.node_link_data(G, edges=\"links\") to preserve current behavior, or\n",
      "  nx.node_link_data(G, edges=\"edges\") for forward compatibility.\n",
      "  warnings.warn(\n"
     ]
    }
   ],
   "source": [
    "G = nx.Graph()\n",
    "G.add_weighted_edges_from([(a, b, w) for (a, b), w in edge_weights.items()])\n",
    "\n",
    "visualize(G)"
   ]
  }
 ],
 "metadata": {
  "kernelspec": {
   "display_name": "base",
   "language": "python",
   "name": "python3"
  },
  "language_info": {
   "codemirror_mode": {
    "name": "ipython",
    "version": 3
   },
   "file_extension": ".py",
   "mimetype": "text/x-python",
   "name": "python",
   "nbconvert_exporter": "python",
   "pygments_lexer": "ipython3",
   "version": "3.11.9"
  }
 },
 "nbformat": 4,
 "nbformat_minor": 5
}
