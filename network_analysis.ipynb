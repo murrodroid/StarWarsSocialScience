{
 "cells": [
  {
   "cell_type": "code",
   "execution_count": 2,
   "metadata": {},
   "outputs": [],
   "source": [
    "import networkx as nx\n",
    "import community as community_louvain"
   ]
  },
  {
   "cell_type": "markdown",
   "metadata": {},
   "source": [
    "### 1. Basic metrics (Degree, Centrality, Closeness)"
   ]
  },
  {
   "cell_type": "code",
   "execution_count": null,
   "metadata": {},
   "outputs": [],
   "source": [
    "print(\"Number of nodes in Network \", len(G.nodes()))\n",
    "len(\"Number of edges in Network \", len(G.edges()))"
   ]
  },
  {
   "cell_type": "markdown",
   "metadata": {},
   "source": [
    "**Degree:** Characters with most connections"
   ]
  },
  {
   "cell_type": "code",
   "execution_count": null,
   "metadata": {},
   "outputs": [],
   "source": [
    "degree = dict(nx.degree(G))\n",
    "\n",
    "print(\"Top 5 by degree:\")\n",
    "print(sorted(degree.items(), key=lambda x: x[1], reverse=True)[:5])"
   ]
  },
  {
   "cell_type": "markdown",
   "metadata": {},
   "source": [
    "**Centrality :** Which characters are bridges between groups (for example: Jedi & Sith)"
   ]
  },
  {
   "cell_type": "code",
   "execution_count": null,
   "metadata": {},
   "outputs": [],
   "source": [
    "centrality = nx.betweenness_centrality(G)\n",
    "\n",
    "print(\"Top 5 by betweenness centrality:\")\n",
    "print(sorted(centrality.items(), key=lambda x: x[1], reverse=True)[:5])"
   ]
  },
  {
   "cell_type": "markdown",
   "metadata": {},
   "source": [
    "**Closeness :** Who has access to others quickly (in terms of dialogue chains)"
   ]
  },
  {
   "cell_type": "code",
   "execution_count": null,
   "metadata": {},
   "outputs": [],
   "source": [
    "closeness = nx.closeness_centrality(G)\n",
    "\n",
    "print(\"\\nTop 5 by closeness centrality:\")\n",
    "print(sorted(closeness.items(), key=lambda x: x[1], reverse=True)[:5])"
   ]
  },
  {
   "cell_type": "markdown",
   "metadata": {},
   "source": [
    "**Eigenvector centrality :** Influence in the network (optional)"
   ]
  },
  {
   "cell_type": "code",
   "execution_count": null,
   "metadata": {},
   "outputs": [],
   "source": [
    "eigenvector = nx.eigenvector_centrality(G)\n",
    "\n",
    "print(\"Top 5 by eigenvector centrality:\")\n",
    "print(sorted(eigenvector.items(), key=lambda x: x[1], reverse=True)[:5])"
   ]
  },
  {
   "cell_type": "markdown",
   "metadata": {},
   "source": [
    "### 2. Community Detection"
   ]
  },
  {
   "cell_type": "markdown",
   "metadata": {},
   "source": [
    "Louvain Method (for modularity-based clustering)"
   ]
  },
  {
   "cell_type": "code",
   "execution_count": null,
   "metadata": {},
   "outputs": [],
   "source": [
    "partition = community_louvain.best_partition(G)\n",
    "\n",
    "# assign partition as node attribute\n",
    "nx.set_node_attributes(G, partition, \"community\")\n",
    "\n",
    "# show sample of communities\n",
    "from collections import defaultdict\n",
    "\n",
    "communities = defaultdict(list)\n",
    "for node, comm_id in partition.items():\n",
    "    communities[comm_id].append(node)\n",
    "\n",
    "print(\"Top 3 Communities:\")\n",
    "for i, (cid, members) in enumerate(communities.items()):\n",
    "    if i >= 3: break\n",
    "    print(f\"Community {cid}: {members[:5]}...\")\n"
   ]
  },
  {
   "cell_type": "markdown",
   "metadata": {},
   "source": [
    "### 4. Critical characters (for connectivity)"
   ]
  },
  {
   "cell_type": "markdown",
   "metadata": {},
   "source": [
    "Finding critical bridges, characters that if removed ruins connectivity of the network."
   ]
  },
  {
   "cell_type": "code",
   "execution_count": null,
   "metadata": {},
   "outputs": [],
   "source": [
    "# find critical connectors (bridges)\n",
    "bridges = list(nx.bridges(G))  # edges that, if removed, would disconnect parts\n",
    "print(\"top 5 bridges:\", bridges[:5])"
   ]
  },
  {
   "cell_type": "markdown",
   "metadata": {},
   "source": [
    "Removing a critical character to see how connectivity changes (Example Palpatine)"
   ]
  },
  {
   "cell_type": "code",
   "execution_count": null,
   "metadata": {},
   "outputs": [],
   "source": [
    "# see Palpatine neighbors (see if he connects isolated subgroups)\n",
    "neighbors = list(G.neighbors(\"Palpatine\"))\n",
    "print(\"Palpatine interacts with:\", neighbors)\n",
    "\n",
    "# removing Palpatine\n",
    "G_removed = G.copy()\n",
    "G_removed.remove_node(\"Palpatine\")\n",
    "\n",
    "# see connectivity\n",
    "components = list(nx.connected_components(G_removed))\n",
    "print(\"components without Palpatine:\", len(components))"
   ]
  }
 ],
 "metadata": {
  "kernelspec": {
   "display_name": "Python 3",
   "language": "python",
   "name": "python3"
  },
  "language_info": {
   "codemirror_mode": {
    "name": "ipython",
    "version": 3
   },
   "file_extension": ".py",
   "mimetype": "text/x-python",
   "name": "python",
   "nbconvert_exporter": "python",
   "pygments_lexer": "ipython3",
   "version": "3.12.8"
  }
 },
 "nbformat": 4,
 "nbformat_minor": 2
}
