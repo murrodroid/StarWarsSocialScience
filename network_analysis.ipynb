{
 "cells": [
  {
   "cell_type": "markdown",
   "metadata": {},
   "source": [
    "# TO DO FOR NETWORK ANALYSIS\n",
    "\n",
    "### 1. Basic metrics: (skal bare udregnes og fortolkes kort, degree og centrality er vigtigst)\n",
    "* **Degree in and out :** Who talks most, who is addressed the most\n",
    "\n",
    "* **Centrality :** Which characters are bridges between groups (for eksempel: Jedi & Sith)\n",
    "\n",
    "* **Closeness :** Who has access to others quickly (in terms of dialogue chains)\n",
    "\n",
    "* **Eigenvector centrality :** Influence in the network\n",
    "\n",
    "<span style=\"color:red\"> *Example Insight: Vader may have fewer lines than Anakin but more strategic placement (high betweenness).*</span>\n",
    "\n",
    "\n",
    "\n",
    "### 2. Community Detection\n",
    "\n",
    "**Vælg algoritme:**\n",
    "Louvain Method (for modularity-based clustering) eller Girvan-Newman (edge betweenness-based)\n",
    "\n",
    "**bruges til:**\n",
    "- finde factions (jedi council, senate, rebels osv.)\n",
    "- hvordan alliancer forandres gennem filmene\n",
    "\n",
    "\n",
    "### 3. Temporal Network Comparison (Optional!, men kan give mening hvis det ikke er for besværligt)\n",
    "\n",
    "Inddel netværk per episode eller triologi (prequel vs sequel)\n",
    "\n",
    "Sammenlign så neværkene med:\n",
    "- node degree (hvordan er det forskelligt i de forskellige netværk (udviklingen))\n",
    "- ændringer i clusters\n",
    "- ændringer i centrale characters (Anakin -> Darth Vader)\n",
    "\n",
    "\n",
    "### 4. Path & flow analysis\n",
    "\n",
    "* find shortest path mellem hoved karakterer\n",
    "\n",
    "* find nodes/edges der connecter disconnectede dele\n",
    "\n",
    "\n",
    "<span style=\"color:red\">  *Example: Is Palpatine the critical link between all Sith interactions?* </span> \n",
    "\n",
    "\n",
    "\n",
    "---"
   ]
  },
  {
   "cell_type": "markdown",
   "metadata": {},
   "source": [
    "### 1. Basic metrics"
   ]
  },
  {
   "cell_type": "markdown",
   "metadata": {},
   "source": [
    "### 2. Community Detection"
   ]
  },
  {
   "cell_type": "markdown",
   "metadata": {},
   "source": [
    "### 3. Temporal Network Comparison"
   ]
  },
  {
   "cell_type": "markdown",
   "metadata": {},
   "source": [
    "### 4. Path & flow analysis"
   ]
  },
  {
   "cell_type": "code",
   "execution_count": null,
   "metadata": {},
   "outputs": [],
   "source": []
  }
 ],
 "metadata": {
  "language_info": {
   "name": "python"
  }
 },
 "nbformat": 4,
 "nbformat_minor": 2
}
